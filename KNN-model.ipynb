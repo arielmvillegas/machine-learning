{
 "cells": [
  {
   "cell_type": "code",
   "execution_count": 1,
   "id": "8e6edd43-ecc5-48a2-a1ef-879159f328d3",
   "metadata": {},
   "outputs": [],
   "source": [
    "import pandas as pd"
   ]
  },
  {
   "cell_type": "code",
   "execution_count": 7,
   "id": "c9d98586-809e-482a-9057-d13b5e4a549e",
   "metadata": {},
   "outputs": [],
   "source": [
    "from sklearn.preprocessing import MinMaxScaler\n",
    "from sklearn.model_selection import train_test_split\n",
    "from sklearn.neighbors import KNeighborsClassifier\n",
    "from sklearn.metrics import confusion_matrix\n",
    "from sklearn.metrics import classification_report"
   ]
  },
  {
   "cell_type": "code",
   "execution_count": 8,
   "id": "8f22a1ae-5678-4ef4-ab8a-6364f5586dac",
   "metadata": {},
   "outputs": [],
   "source": [
    "## code out the model\n",
    "## first import our csv of our data of the best 500 hitters."
   ]
  },
  {
   "cell_type": "code",
   "execution_count": 9,
   "id": "923053bb-51b8-4bd9-a034-14cd7d083fe6",
   "metadata": {},
   "outputs": [],
   "source": [
    "df = pd.read_csv('500hits.csv', encoding = 'latin-1')"
   ]
  },
  {
   "cell_type": "code",
   "execution_count": 12,
   "id": "43396bf0-98a4-4c82-b3ea-ac6ce1f2fe28",
   "metadata": {},
   "outputs": [
    {
     "data": {
      "text/html": [
       "<div>\n",
       "<style scoped>\n",
       "    .dataframe tbody tr th:only-of-type {\n",
       "        vertical-align: middle;\n",
       "    }\n",
       "\n",
       "    .dataframe tbody tr th {\n",
       "        vertical-align: top;\n",
       "    }\n",
       "\n",
       "    .dataframe thead th {\n",
       "        text-align: right;\n",
       "    }\n",
       "</style>\n",
       "<table border=\"1\" class=\"dataframe\">\n",
       "  <thead>\n",
       "    <tr style=\"text-align: right;\">\n",
       "      <th></th>\n",
       "      <th>PLAYER</th>\n",
       "      <th>YRS</th>\n",
       "      <th>G</th>\n",
       "      <th>AB</th>\n",
       "      <th>R</th>\n",
       "      <th>H</th>\n",
       "      <th>2B</th>\n",
       "      <th>3B</th>\n",
       "      <th>HR</th>\n",
       "      <th>RBI</th>\n",
       "      <th>BB</th>\n",
       "      <th>SO</th>\n",
       "      <th>SB</th>\n",
       "      <th>CS</th>\n",
       "      <th>BA</th>\n",
       "      <th>HOF</th>\n",
       "    </tr>\n",
       "  </thead>\n",
       "  <tbody>\n",
       "    <tr>\n",
       "      <th>0</th>\n",
       "      <td>Ty Cobb</td>\n",
       "      <td>24</td>\n",
       "      <td>3035</td>\n",
       "      <td>11434</td>\n",
       "      <td>2246</td>\n",
       "      <td>4189</td>\n",
       "      <td>724</td>\n",
       "      <td>295</td>\n",
       "      <td>117</td>\n",
       "      <td>726</td>\n",
       "      <td>1249</td>\n",
       "      <td>357</td>\n",
       "      <td>892</td>\n",
       "      <td>178</td>\n",
       "      <td>0.366</td>\n",
       "      <td>1</td>\n",
       "    </tr>\n",
       "    <tr>\n",
       "      <th>1</th>\n",
       "      <td>Stan Musial</td>\n",
       "      <td>22</td>\n",
       "      <td>3026</td>\n",
       "      <td>10972</td>\n",
       "      <td>1949</td>\n",
       "      <td>3630</td>\n",
       "      <td>725</td>\n",
       "      <td>177</td>\n",
       "      <td>475</td>\n",
       "      <td>1951</td>\n",
       "      <td>1599</td>\n",
       "      <td>696</td>\n",
       "      <td>78</td>\n",
       "      <td>31</td>\n",
       "      <td>0.331</td>\n",
       "      <td>1</td>\n",
       "    </tr>\n",
       "    <tr>\n",
       "      <th>2</th>\n",
       "      <td>Tris Speaker</td>\n",
       "      <td>22</td>\n",
       "      <td>2789</td>\n",
       "      <td>10195</td>\n",
       "      <td>1882</td>\n",
       "      <td>3514</td>\n",
       "      <td>792</td>\n",
       "      <td>222</td>\n",
       "      <td>117</td>\n",
       "      <td>724</td>\n",
       "      <td>1381</td>\n",
       "      <td>220</td>\n",
       "      <td>432</td>\n",
       "      <td>129</td>\n",
       "      <td>0.345</td>\n",
       "      <td>1</td>\n",
       "    </tr>\n",
       "    <tr>\n",
       "      <th>3</th>\n",
       "      <td>Derek Jeter</td>\n",
       "      <td>20</td>\n",
       "      <td>2747</td>\n",
       "      <td>11195</td>\n",
       "      <td>1923</td>\n",
       "      <td>3465</td>\n",
       "      <td>544</td>\n",
       "      <td>66</td>\n",
       "      <td>260</td>\n",
       "      <td>1311</td>\n",
       "      <td>1082</td>\n",
       "      <td>1840</td>\n",
       "      <td>358</td>\n",
       "      <td>97</td>\n",
       "      <td>0.310</td>\n",
       "      <td>1</td>\n",
       "    </tr>\n",
       "    <tr>\n",
       "      <th>4</th>\n",
       "      <td>Honus Wagner</td>\n",
       "      <td>21</td>\n",
       "      <td>2792</td>\n",
       "      <td>10430</td>\n",
       "      <td>1736</td>\n",
       "      <td>3430</td>\n",
       "      <td>640</td>\n",
       "      <td>252</td>\n",
       "      <td>101</td>\n",
       "      <td>0</td>\n",
       "      <td>963</td>\n",
       "      <td>327</td>\n",
       "      <td>722</td>\n",
       "      <td>15</td>\n",
       "      <td>0.329</td>\n",
       "      <td>1</td>\n",
       "    </tr>\n",
       "  </tbody>\n",
       "</table>\n",
       "</div>"
      ],
      "text/plain": [
       "         PLAYER  YRS     G     AB     R     H   2B   3B   HR   RBI    BB  \\\n",
       "0       Ty Cobb   24  3035  11434  2246  4189  724  295  117   726  1249   \n",
       "1   Stan Musial   22  3026  10972  1949  3630  725  177  475  1951  1599   \n",
       "2  Tris Speaker   22  2789  10195  1882  3514  792  222  117   724  1381   \n",
       "3   Derek Jeter   20  2747  11195  1923  3465  544   66  260  1311  1082   \n",
       "4  Honus Wagner   21  2792  10430  1736  3430  640  252  101     0   963   \n",
       "\n",
       "     SO   SB   CS     BA  HOF  \n",
       "0   357  892  178  0.366    1  \n",
       "1   696   78   31  0.331    1  \n",
       "2   220  432  129  0.345    1  \n",
       "3  1840  358   97  0.310    1  \n",
       "4   327  722   15  0.329    1  "
      ]
     },
     "execution_count": 12,
     "metadata": {},
     "output_type": "execute_result"
    }
   ],
   "source": [
    "## lets take a look at our data\n",
    "df.head()"
   ]
  },
  {
   "cell_type": "code",
   "execution_count": 13,
   "id": "42b255fb-4033-4520-ad71-855104e565aa",
   "metadata": {},
   "outputs": [],
   "source": [
    "## drop columns that aren't needed with our data - players and SB (stealing bases) because we just want numbers\n",
    "df = df.drop(columns = ['PLAYER', 'CS'])"
   ]
  },
  {
   "cell_type": "code",
   "execution_count": 22,
   "id": "78474289-01ec-4b3e-ab33-1d7c8365f9d1",
   "metadata": {},
   "outputs": [
    {
     "data": {
      "text/html": [
       "<div>\n",
       "<style scoped>\n",
       "    .dataframe tbody tr th:only-of-type {\n",
       "        vertical-align: middle;\n",
       "    }\n",
       "\n",
       "    .dataframe tbody tr th {\n",
       "        vertical-align: top;\n",
       "    }\n",
       "\n",
       "    .dataframe thead th {\n",
       "        text-align: right;\n",
       "    }\n",
       "</style>\n",
       "<table border=\"1\" class=\"dataframe\">\n",
       "  <thead>\n",
       "    <tr style=\"text-align: right;\">\n",
       "      <th></th>\n",
       "      <th>YRS</th>\n",
       "      <th>G</th>\n",
       "      <th>AB</th>\n",
       "      <th>R</th>\n",
       "      <th>H</th>\n",
       "      <th>2B</th>\n",
       "      <th>3B</th>\n",
       "      <th>HR</th>\n",
       "      <th>RBI</th>\n",
       "      <th>BB</th>\n",
       "      <th>SO</th>\n",
       "      <th>SB</th>\n",
       "      <th>BA</th>\n",
       "      <th>HOF</th>\n",
       "    </tr>\n",
       "  </thead>\n",
       "  <tbody>\n",
       "    <tr>\n",
       "      <th>0</th>\n",
       "      <td>24</td>\n",
       "      <td>3035</td>\n",
       "      <td>11434</td>\n",
       "      <td>2246</td>\n",
       "      <td>4189</td>\n",
       "      <td>724</td>\n",
       "      <td>295</td>\n",
       "      <td>117</td>\n",
       "      <td>726</td>\n",
       "      <td>1249</td>\n",
       "      <td>357</td>\n",
       "      <td>892</td>\n",
       "      <td>0.366</td>\n",
       "      <td>1</td>\n",
       "    </tr>\n",
       "    <tr>\n",
       "      <th>1</th>\n",
       "      <td>22</td>\n",
       "      <td>3026</td>\n",
       "      <td>10972</td>\n",
       "      <td>1949</td>\n",
       "      <td>3630</td>\n",
       "      <td>725</td>\n",
       "      <td>177</td>\n",
       "      <td>475</td>\n",
       "      <td>1951</td>\n",
       "      <td>1599</td>\n",
       "      <td>696</td>\n",
       "      <td>78</td>\n",
       "      <td>0.331</td>\n",
       "      <td>1</td>\n",
       "    </tr>\n",
       "    <tr>\n",
       "      <th>2</th>\n",
       "      <td>22</td>\n",
       "      <td>2789</td>\n",
       "      <td>10195</td>\n",
       "      <td>1882</td>\n",
       "      <td>3514</td>\n",
       "      <td>792</td>\n",
       "      <td>222</td>\n",
       "      <td>117</td>\n",
       "      <td>724</td>\n",
       "      <td>1381</td>\n",
       "      <td>220</td>\n",
       "      <td>432</td>\n",
       "      <td>0.345</td>\n",
       "      <td>1</td>\n",
       "    </tr>\n",
       "    <tr>\n",
       "      <th>3</th>\n",
       "      <td>20</td>\n",
       "      <td>2747</td>\n",
       "      <td>11195</td>\n",
       "      <td>1923</td>\n",
       "      <td>3465</td>\n",
       "      <td>544</td>\n",
       "      <td>66</td>\n",
       "      <td>260</td>\n",
       "      <td>1311</td>\n",
       "      <td>1082</td>\n",
       "      <td>1840</td>\n",
       "      <td>358</td>\n",
       "      <td>0.310</td>\n",
       "      <td>1</td>\n",
       "    </tr>\n",
       "    <tr>\n",
       "      <th>4</th>\n",
       "      <td>21</td>\n",
       "      <td>2792</td>\n",
       "      <td>10430</td>\n",
       "      <td>1736</td>\n",
       "      <td>3430</td>\n",
       "      <td>640</td>\n",
       "      <td>252</td>\n",
       "      <td>101</td>\n",
       "      <td>0</td>\n",
       "      <td>963</td>\n",
       "      <td>327</td>\n",
       "      <td>722</td>\n",
       "      <td>0.329</td>\n",
       "      <td>1</td>\n",
       "    </tr>\n",
       "  </tbody>\n",
       "</table>\n",
       "</div>"
      ],
      "text/plain": [
       "   YRS     G     AB     R     H   2B   3B   HR   RBI    BB    SO   SB     BA  \\\n",
       "0   24  3035  11434  2246  4189  724  295  117   726  1249   357  892  0.366   \n",
       "1   22  3026  10972  1949  3630  725  177  475  1951  1599   696   78  0.331   \n",
       "2   22  2789  10195  1882  3514  792  222  117   724  1381   220  432  0.345   \n",
       "3   20  2747  11195  1923  3465  544   66  260  1311  1082  1840  358  0.310   \n",
       "4   21  2792  10430  1736  3430  640  252  101     0   963   327  722  0.329   \n",
       "\n",
       "   HOF  \n",
       "0    1  \n",
       "1    1  \n",
       "2    1  \n",
       "3    1  \n",
       "4    1  "
      ]
     },
     "execution_count": 22,
     "metadata": {},
     "output_type": "execute_result"
    }
   ],
   "source": [
    "## display they're in fact dropped\n",
    "df.head()"
   ]
  },
  {
   "cell_type": "code",
   "execution_count": 23,
   "id": "5e667d63-2b74-411d-8e6c-5eef639439d4",
   "metadata": {},
   "outputs": [],
   "source": [
    "## what causes someone to be in HOF (hall of fame), thus lets make our data X (YRS, G, AB, R, H, 28, ... there are 13)\n",
    "X = df.iloc[:, 0:13]"
   ]
  },
  {
   "cell_type": "code",
   "execution_count": 24,
   "id": "7fdfee67-2e8e-432c-9ced-95df546664fd",
   "metadata": {},
   "outputs": [],
   "source": [
    "## instead of 0-13, just 13 because we're grabbing the HOF colm only\n",
    "y = df.iloc[:,13]"
   ]
  },
  {
   "cell_type": "code",
   "execution_count": 25,
   "id": "2284979e-7fbb-4138-923f-9ebe94272e3b",
   "metadata": {},
   "outputs": [],
   "source": [
    "## first train_test_split - split our data. this is going to randomized our data.\n",
    "## i want to have 20% for the testing and 80% for the training.\n",
    "X_train, X_test, y_train, y_test = train_test_split(X, y, random_state= 11, test_size=0.2)"
   ]
  },
  {
   "cell_type": "code",
   "execution_count": 26,
   "id": "44243012-a1d5-4b62-b3aa-e5578b7a1b86",
   "metadata": {},
   "outputs": [],
   "source": [
    "## add in our scaler\n",
    "scaler = MinMaxScaler(feature_range=(0,1))"
   ]
  },
  {
   "cell_type": "code",
   "execution_count": 27,
   "id": "7b1e7ae3-c246-429f-8a87-3c2f57c1fdc9",
   "metadata": {},
   "outputs": [],
   "source": [
    "## fit our data to the scaler based on the MinMaxScaler which has values from 0 and 1\n",
    "X_train = scaler.fit_transform(X_train)\n",
    "X_test = scaler.fit_transform(X_test)"
   ]
  },
  {
   "cell_type": "code",
   "execution_count": 28,
   "id": "1997a272-56f4-44d6-8c7a-0abb3d808663",
   "metadata": {},
   "outputs": [],
   "source": [
    "## add the KNN\n",
    "knn = KNeighborsClassifier(n_neighbors=8)"
   ]
  },
  {
   "cell_type": "code",
   "execution_count": 29,
   "id": "4cde2f0b-5129-4e3c-ac53-2cd49ec6b38c",
   "metadata": {},
   "outputs": [
    {
     "data": {
      "text/html": [
       "<style>#sk-container-id-1 {color: black;background-color: white;}#sk-container-id-1 pre{padding: 0;}#sk-container-id-1 div.sk-toggleable {background-color: white;}#sk-container-id-1 label.sk-toggleable__label {cursor: pointer;display: block;width: 100%;margin-bottom: 0;padding: 0.3em;box-sizing: border-box;text-align: center;}#sk-container-id-1 label.sk-toggleable__label-arrow:before {content: \"▸\";float: left;margin-right: 0.25em;color: #696969;}#sk-container-id-1 label.sk-toggleable__label-arrow:hover:before {color: black;}#sk-container-id-1 div.sk-estimator:hover label.sk-toggleable__label-arrow:before {color: black;}#sk-container-id-1 div.sk-toggleable__content {max-height: 0;max-width: 0;overflow: hidden;text-align: left;background-color: #f0f8ff;}#sk-container-id-1 div.sk-toggleable__content pre {margin: 0.2em;color: black;border-radius: 0.25em;background-color: #f0f8ff;}#sk-container-id-1 input.sk-toggleable__control:checked~div.sk-toggleable__content {max-height: 200px;max-width: 100%;overflow: auto;}#sk-container-id-1 input.sk-toggleable__control:checked~label.sk-toggleable__label-arrow:before {content: \"▾\";}#sk-container-id-1 div.sk-estimator input.sk-toggleable__control:checked~label.sk-toggleable__label {background-color: #d4ebff;}#sk-container-id-1 div.sk-label input.sk-toggleable__control:checked~label.sk-toggleable__label {background-color: #d4ebff;}#sk-container-id-1 input.sk-hidden--visually {border: 0;clip: rect(1px 1px 1px 1px);clip: rect(1px, 1px, 1px, 1px);height: 1px;margin: -1px;overflow: hidden;padding: 0;position: absolute;width: 1px;}#sk-container-id-1 div.sk-estimator {font-family: monospace;background-color: #f0f8ff;border: 1px dotted black;border-radius: 0.25em;box-sizing: border-box;margin-bottom: 0.5em;}#sk-container-id-1 div.sk-estimator:hover {background-color: #d4ebff;}#sk-container-id-1 div.sk-parallel-item::after {content: \"\";width: 100%;border-bottom: 1px solid gray;flex-grow: 1;}#sk-container-id-1 div.sk-label:hover label.sk-toggleable__label {background-color: #d4ebff;}#sk-container-id-1 div.sk-serial::before {content: \"\";position: absolute;border-left: 1px solid gray;box-sizing: border-box;top: 0;bottom: 0;left: 50%;z-index: 0;}#sk-container-id-1 div.sk-serial {display: flex;flex-direction: column;align-items: center;background-color: white;padding-right: 0.2em;padding-left: 0.2em;position: relative;}#sk-container-id-1 div.sk-item {position: relative;z-index: 1;}#sk-container-id-1 div.sk-parallel {display: flex;align-items: stretch;justify-content: center;background-color: white;position: relative;}#sk-container-id-1 div.sk-item::before, #sk-container-id-1 div.sk-parallel-item::before {content: \"\";position: absolute;border-left: 1px solid gray;box-sizing: border-box;top: 0;bottom: 0;left: 50%;z-index: -1;}#sk-container-id-1 div.sk-parallel-item {display: flex;flex-direction: column;z-index: 1;position: relative;background-color: white;}#sk-container-id-1 div.sk-parallel-item:first-child::after {align-self: flex-end;width: 50%;}#sk-container-id-1 div.sk-parallel-item:last-child::after {align-self: flex-start;width: 50%;}#sk-container-id-1 div.sk-parallel-item:only-child::after {width: 0;}#sk-container-id-1 div.sk-dashed-wrapped {border: 1px dashed gray;margin: 0 0.4em 0.5em 0.4em;box-sizing: border-box;padding-bottom: 0.4em;background-color: white;}#sk-container-id-1 div.sk-label label {font-family: monospace;font-weight: bold;display: inline-block;line-height: 1.2em;}#sk-container-id-1 div.sk-label-container {text-align: center;}#sk-container-id-1 div.sk-container {/* jupyter's `normalize.less` sets `[hidden] { display: none; }` but bootstrap.min.css set `[hidden] { display: none !important; }` so we also need the `!important` here to be able to override the default hidden behavior on the sphinx rendered scikit-learn.org. See: https://github.com/scikit-learn/scikit-learn/issues/21755 */display: inline-block !important;position: relative;}#sk-container-id-1 div.sk-text-repr-fallback {display: none;}</style><div id=\"sk-container-id-1\" class=\"sk-top-container\"><div class=\"sk-text-repr-fallback\"><pre>KNeighborsClassifier(n_neighbors=8)</pre><b>In a Jupyter environment, please rerun this cell to show the HTML representation or trust the notebook. <br />On GitHub, the HTML representation is unable to render, please try loading this page with nbviewer.org.</b></div><div class=\"sk-container\" hidden><div class=\"sk-item\"><div class=\"sk-estimator sk-toggleable\"><input class=\"sk-toggleable__control sk-hidden--visually\" id=\"sk-estimator-id-1\" type=\"checkbox\" checked><label for=\"sk-estimator-id-1\" class=\"sk-toggleable__label sk-toggleable__label-arrow\">KNeighborsClassifier</label><div class=\"sk-toggleable__content\"><pre>KNeighborsClassifier(n_neighbors=8)</pre></div></div></div></div></div>"
      ],
      "text/plain": [
       "KNeighborsClassifier(n_neighbors=8)"
      ]
     },
     "execution_count": 29,
     "metadata": {},
     "output_type": "execute_result"
    }
   ],
   "source": [
    "## fit our data to this model, all we have to do is scan it\n",
    "knn.fit(X_train, y_train)"
   ]
  },
  {
   "cell_type": "code",
   "execution_count": 31,
   "id": "eaea865e-98d7-4c2e-89af-9a435d9e2d06",
   "metadata": {},
   "outputs": [],
   "source": [
    "## make some predictions\n",
    "y_pred = knn.predict(X_test)"
   ]
  },
  {
   "cell_type": "code",
   "execution_count": 32,
   "id": "8a70374d-1d58-417d-88cc-3bbf6b54cd39",
   "metadata": {},
   "outputs": [
    {
     "name": "stdout",
     "output_type": "stream",
     "text": [
      "[0 0 1 0 0 0 0 1 0 0 0 0 0 0 0 1 0 1 1 0 1 0 0 0 0 0 0 1 0 0 0 1 1 1 0 1 0\n",
      " 0 1 0 0 1 0 0 0 1 0 0 1 0 1 1 0 1 1 1 0 0 1 0 1 0 1 1 0 0 1 1 0 1 0 0 0 0\n",
      " 1 0 0 1 0 0 0 0 1 1 0 1 0 0 0 0 0 1 1]\n"
     ]
    }
   ],
   "source": [
    "## print out predications. hof vs. non hof\n",
    "print(y_pred)"
   ]
  },
  {
   "cell_type": "code",
   "execution_count": 33,
   "id": "4b721ec9-a86c-4a39-93aa-47ebd5245609",
   "metadata": {},
   "outputs": [
    {
     "data": {
      "text/plain": [
       "0.8279569892473119"
      ]
     },
     "execution_count": 33,
     "metadata": {},
     "output_type": "execute_result"
    }
   ],
   "source": [
    "## more accurate\n",
    "knn.score(X_test, y_test)"
   ]
  },
  {
   "cell_type": "code",
   "execution_count": 37,
   "id": "55bc9332-fc25-4b82-8aab-71e194b56137",
   "metadata": {},
   "outputs": [],
   "source": [
    "## give you lots more insight on the model\n",
    "cm = confusion_matrix(y_test, y_pred)"
   ]
  },
  {
   "cell_type": "code",
   "execution_count": 38,
   "id": "7084489f-3868-4148-ad98-9d9ab216c835",
   "metadata": {},
   "outputs": [
    {
     "name": "stdout",
     "output_type": "stream",
     "text": [
      "[[55 12]\n",
      " [ 4 22]]\n"
     ]
    }
   ],
   "source": [
    "## 55 - true positive predicated hof and is a hof. 22 - true negative predicated not to be hof and was not a hof\n",
    "## 12 - false positive predicated to be hof and is not a hof. 4 - false negative\n",
    "print(cm)"
   ]
  },
  {
   "cell_type": "code",
   "execution_count": 39,
   "id": "a883e698-6081-4351-99ba-11c481a9d701",
   "metadata": {},
   "outputs": [],
   "source": [
    "cr = classification_report(y_test, y_pred)"
   ]
  },
  {
   "cell_type": "code",
   "execution_count": 43,
   "id": "690e9350-60a9-49ba-bf8e-534508fcff27",
   "metadata": {},
   "outputs": [
    {
     "name": "stdout",
     "output_type": "stream",
     "text": [
      "              precision    recall  f1-score   support\n",
      "\n",
      "           0       0.93      0.82      0.87        67\n",
      "           1       0.65      0.85      0.73        26\n",
      "\n",
      "    accuracy                           0.83        93\n",
      "   macro avg       0.79      0.83      0.80        93\n",
      "weighted avg       0.85      0.83      0.83        93\n",
      "\n"
     ]
    }
   ],
   "source": [
    "## precision - 55 / 59 (false negative) = 0.93\n",
    "## recall - true positive / (true positive + false positive) - 55 + 12 = 67 then divide that by 59. = 0.8\n",
    "## f1-score - 2 * precision * recall  = 1.5252 and then divide that by (precision(0.93) + recall (0.82) = 1.75 finally, 1.5252 / 1.75\n",
    "## support - 55 + 12 = 67, 4 + 22 = 26.\n",
    "print(cr)"
   ]
  },
  {
   "cell_type": "code",
   "execution_count": 46,
   "id": "2a2c8ff9-33da-472a-ab96-c12ebf745c03",
   "metadata": {},
   "outputs": [
    {
     "name": "stdout",
     "output_type": "stream",
     "text": [
      "372\n"
     ]
    }
   ],
   "source": [
    "print(knn.n_samples_fit_)"
   ]
  },
  {
   "cell_type": "code",
   "execution_count": null,
   "id": "e2df1031-b378-4065-9b9a-d9e2e1d690f0",
   "metadata": {},
   "outputs": [],
   "source": []
  }
 ],
 "metadata": {
  "kernelspec": {
   "display_name": "Python 3 (ipykernel)",
   "language": "python",
   "name": "python3"
  },
  "language_info": {
   "codemirror_mode": {
    "name": "ipython",
    "version": 3
   },
   "file_extension": ".py",
   "mimetype": "text/x-python",
   "name": "python",
   "nbconvert_exporter": "python",
   "pygments_lexer": "ipython3",
   "version": "3.11.7"
  }
 },
 "nbformat": 4,
 "nbformat_minor": 5
}
